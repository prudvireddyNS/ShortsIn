{
 "cells": [
  {
   "cell_type": "markdown",
   "metadata": {},
   "source": [
    "### `done`\n",
    "given a topic\n",
    "- can generate script\n",
    "- can generate images for script\n",
    "\n",
    "### `pending`\n",
    "Having script images\n",
    "- should generate speech\n",
    "- should generate music\n",
    "- combine speech and images into video\n",
    "- add music\n"
   ]
  },
  {
   "cell_type": "code",
   "execution_count": 4,
   "metadata": {},
   "outputs": [],
   "source": [
    "from langchain.chains import LLMChain, SequentialChain\n",
    "from langchain_google_genai import ChatGoogleGenerativeAI\n",
    "from langchain.prompts import PromptTemplate"
   ]
  },
  {
   "cell_type": "code",
   "execution_count": 5,
   "metadata": {},
   "outputs": [],
   "source": [
    "llm = ChatGoogleGenerativeAI(model='gemini-pro')"
   ]
  },
  {
   "cell_type": "code",
   "execution_count": 6,
   "metadata": {},
   "outputs": [],
   "source": [
    "\n",
    "template1 = \"\"\"\n",
    "You are a content writer for a prominent YouTuber. Given a specific topic, you will generate both text for image creation and text for voice-over narration.\n",
    "\n",
    "**Instructions:**\n",
    "\n",
    "1. **Generate Text for Image Creation:** \n",
    "   - Generate sentences from the provided topic that are visually descriptive and capture the main ideas or scenes. These sentences will guide the creation of compelling images.\n",
    "   - Ensure each sentence is concise, vivid, and clearly depicts a scene or idea that can be visualized as an image. If characters are involved, describe them consistently in terms of age, gender, etc.\n",
    "\n",
    "2. **Generate Text for Voice-Over:** \n",
    "   - Generate sentences from the provided topic and the image text that can be used for voice-over narration. These sentences should be engaging, suitable for narration.\n",
    "   - Ensure each sentence is concise, clear, and crafted to capture the viewer's interest, effectively conveying the main points or scenes from the topic.\n",
    "   - Make sure that each sentence is long enough to narrate for 10 seconds\n",
    "   \n",
    "3. **Ensure Synergy between Image and Voice-Over:**\n",
    "   - Ensure that each point in the image creation text corresponds logically and thematically with the corresponding point in the voice-over text, maintaining coherence throughout the video content.\n",
    "\n",
    "**Topic:**  \n",
    "{topic}\n",
    "\n",
    "Output format:\n",
    "\n",
    "**Title:** title  \n",
    "**Description:** description  \n",
    "**Tags:** tag1, tag2, tag3\n",
    "\n",
    "**Sentences for Image Generation:**\n",
    "1. sentence-1\n",
    "2. sentence-2\n",
    "3. sentence-3\n",
    "and so on\n",
    "\n",
    "**Sentences for Voice-Over:**\n",
    "1. sentence-1\n",
    "2. sentence-2\n",
    "3. sentence-3\n",
    "and so on\"\"\"\n",
    "\n",
    "template2 = \"\"\"You are an content writer working for a Youtuber. Given a script, you will modify the script according to the instructions given below.\n",
    "\n",
    "**Instructions:**\n",
    "The script contains Title, Description, Tags, Sentences for Image Generation, Sentences for Voice-Over.\n",
    "- Ensure that each point in the 'Sentences for Image Generation' corresponds logically and thematically with the corresponding point in the 'Sentences for Voice-Over', maintaining coherence throughout the video content.\n",
    "- For 'Sentences for Image Generation' add a point in the beginning, that has Visual description related to the hook.\n",
    "- For 'Sentences for Voice-Over' add a line related to the hook at the beginning that attracts audience attention and a line related to the Call-to-action - prompting viewers to like, comment, and subscribe at the end.\n",
    "- These sentences should be engaging, suitable for narration.\n",
    "\n",
    "**Script:**  \n",
    "{script}\n",
    "\n",
    "Make sure that number of sentences in 'Sentences for Voice-Over' are one more than number of sentences in 'Sentences for Image Generation'. if not modify script.\"\"\"\n",
    "\n",
    "prompt1 = PromptTemplate.from_template(template1)\n",
    "prompt2 = PromptTemplate.from_template(template2)"
   ]
  },
  {
   "cell_type": "code",
   "execution_count": 7,
   "metadata": {},
   "outputs": [],
   "source": [
    "topic = '5 Greatest kings of all time'"
   ]
  },
  {
   "cell_type": "code",
   "execution_count": 8,
   "metadata": {},
   "outputs": [
    {
     "name": "stderr",
     "output_type": "stream",
     "text": [
      "c:\\Users\\prudh\\anaconda3\\envs\\gen_ai1\\lib\\site-packages\\langchain_core\\_api\\deprecation.py:119: LangChainDeprecationWarning: The class `LLMChain` was deprecated in LangChain 0.1.17 and will be removed in 0.3.0. Use RunnableSequence, e.g., `prompt | llm` instead.\n",
      "  warn_deprecated(\n"
     ]
    },
    {
     "name": "stdout",
     "output_type": "stream",
     "text": [
      "\u001b[32;1m\u001b[1;3m[chain/start]\u001b[0m \u001b[1m[chain:SequentialChain] Entering Chain run with input:\n",
      "\u001b[0m{\n",
      "  \"topic\": \"5 Greatest kings of all time\"\n",
      "}\n",
      "\u001b[32;1m\u001b[1;3m[chain/start]\u001b[0m \u001b[1m[chain:SequentialChain > chain:LLMChain] Entering Chain run with input:\n",
      "\u001b[0m{\n",
      "  \"topic\": \"5 Greatest kings of all time\"\n",
      "}\n",
      "\u001b[32;1m\u001b[1;3m[llm/start]\u001b[0m \u001b[1m[chain:SequentialChain > chain:LLMChain > llm:ChatGoogleGenerativeAI] Entering LLM run with input:\n",
      "\u001b[0m{\n",
      "  \"prompts\": [\n",
      "    \"Human: \\nYou are a content writer for a prominent YouTuber. Given a specific topic, you will generate both text for image creation and text for voice-over narration.\\n\\n**Instructions:**\\n\\n1. **Generate Text for Image Creation:** \\n   - Generate sentences from the provided topic that are visually descriptive and capture the main ideas or scenes. These sentences will guide the creation of compelling images.\\n   - Ensure each sentence is concise, vivid, and clearly depicts a scene or idea that can be visualized as an image. If characters are involved, describe them consistently in terms of age, gender, etc.\\n\\n2. **Generate Text for Voice-Over:** \\n   - Generate sentences from the provided topic and the image text that can be used for voice-over narration. These sentences should be engaging, suitable for narration.\\n   - Ensure each sentence is concise, clear, and crafted to capture the viewer's interest, effectively conveying the main points or scenes from the topic.\\n   - Make sure that each sentence is long enough to narrate for 10 seconds\\n   \\n3. **Ensure Synergy between Image and Voice-Over:**\\n   - Ensure that each point in the image creation text corresponds logically and thematically with the corresponding point in the voice-over text, maintaining coherence throughout the video content.\\n\\n**Topic:**  \\n5 Greatest kings of all time\\n\\nOutput format:\\n\\n**Title:** title  \\n**Description:** description  \\n**Tags:** tag1, tag2, tag3\\n\\n**Sentences for Image Generation:**\\n1. sentence-1\\n2. sentence-2\\n3. sentence-3\\nand so on\\n\\n**Sentences for Voice-Over:**\\n1. sentence-1\\n2. sentence-2\\n3. sentence-3\\nand so on\"\n",
      "  ]\n",
      "}\n",
      "\u001b[36;1m\u001b[1;3m[llm/end]\u001b[0m \u001b[1m[chain:SequentialChain > chain:LLMChain > llm:ChatGoogleGenerativeAI] [8.58s] Exiting LLM run with output:\n",
      "\u001b[0m{\n",
      "  \"generations\": [\n",
      "    [\n",
      "      {\n",
      "        \"text\": \"**Title:** The Five Kings Who Ruled the World\\n\\n**Description:** Join us as we explore the lives and legacies of the five greatest kings of all time. From ancient Egypt to the British Empire, these monarchs shaped the course of history and left an unforgettable mark on the world.\\n\\n**Tags:** history, kings, leadership, power, legacy\\n\\n**Sentences for Image Creation:**\\n\\n1. A majestic pharaoh sits on his golden throne, adorned with intricate headdresses and a regal scepter.\\n2. A young Alexander the Great leads his mighty army into battle, his eyes gleaming with determination.\\n3. Julius Caesar stands on the steps of the Roman Senate, his eloquent speech captivating the crowd.\\n4. Charlemagne, crowned as Holy Roman Emperor, presides over a grand feast in his magnificent palace.\\n5. Queen Victoria, a beloved monarch, rules over a vast British Empire, her reign marked by progress and prosperity.\\n\\n**Sentences for Voice-Over:**\\n\\n1. Throughout history, certain kings have risen above the rest, their names forever etched in the annals of time.\\n2. From the sands of Egypt to the shores of Britain, these five monarchs left an indelible mark on the world.\\n3. Pharaoh Ramses II, the Great Builder, transformed Egypt with his monumental structures and military conquests.\\n4. Alexander the Great, the Conqueror, extended the boundaries of his empire from Greece to India, forever changing the course of history.\\n5. Julius Caesar, the Roman general and statesman, played a pivotal role in shaping the destiny of the Roman Empire.\\n6. Charlemagne, the Father of Europe, united much of Western Europe under his rule, promoting education and culture.\\n7. Queen Victoria, the longest-reigning British monarch, presided over an era of unprecedented industrial and technological advancement.\\n8. These five kings, each with their unique strengths and legacies, have left an enduring impact on the world we live in today.\",\n",
      "        \"generation_info\": {\n",
      "          \"finish_reason\": \"STOP\",\n",
      "          \"safety_ratings\": [\n",
      "            {\n",
      "              \"category\": \"HARM_CATEGORY_SEXUALLY_EXPLICIT\",\n",
      "              \"probability\": \"NEGLIGIBLE\",\n",
      "              \"blocked\": false\n",
      "            },\n",
      "            {\n",
      "              \"category\": \"HARM_CATEGORY_HATE_SPEECH\",\n",
      "              \"probability\": \"NEGLIGIBLE\",\n",
      "              \"blocked\": false\n",
      "            },\n",
      "            {\n",
      "              \"category\": \"HARM_CATEGORY_HARASSMENT\",\n",
      "              \"probability\": \"NEGLIGIBLE\",\n",
      "              \"blocked\": false\n",
      "            },\n",
      "            {\n",
      "              \"category\": \"HARM_CATEGORY_DANGEROUS_CONTENT\",\n",
      "              \"probability\": \"NEGLIGIBLE\",\n",
      "              \"blocked\": false\n",
      "            }\n",
      "          ]\n",
      "        },\n",
      "        \"type\": \"ChatGeneration\",\n",
      "        \"message\": {\n",
      "          \"lc\": 1,\n",
      "          \"type\": \"constructor\",\n",
      "          \"id\": [\n",
      "            \"langchain\",\n",
      "            \"schema\",\n",
      "            \"messages\",\n",
      "            \"AIMessage\"\n",
      "          ],\n",
      "          \"kwargs\": {\n",
      "            \"content\": \"**Title:** The Five Kings Who Ruled the World\\n\\n**Description:** Join us as we explore the lives and legacies of the five greatest kings of all time. From ancient Egypt to the British Empire, these monarchs shaped the course of history and left an unforgettable mark on the world.\\n\\n**Tags:** history, kings, leadership, power, legacy\\n\\n**Sentences for Image Creation:**\\n\\n1. A majestic pharaoh sits on his golden throne, adorned with intricate headdresses and a regal scepter.\\n2. A young Alexander the Great leads his mighty army into battle, his eyes gleaming with determination.\\n3. Julius Caesar stands on the steps of the Roman Senate, his eloquent speech captivating the crowd.\\n4. Charlemagne, crowned as Holy Roman Emperor, presides over a grand feast in his magnificent palace.\\n5. Queen Victoria, a beloved monarch, rules over a vast British Empire, her reign marked by progress and prosperity.\\n\\n**Sentences for Voice-Over:**\\n\\n1. Throughout history, certain kings have risen above the rest, their names forever etched in the annals of time.\\n2. From the sands of Egypt to the shores of Britain, these five monarchs left an indelible mark on the world.\\n3. Pharaoh Ramses II, the Great Builder, transformed Egypt with his monumental structures and military conquests.\\n4. Alexander the Great, the Conqueror, extended the boundaries of his empire from Greece to India, forever changing the course of history.\\n5. Julius Caesar, the Roman general and statesman, played a pivotal role in shaping the destiny of the Roman Empire.\\n6. Charlemagne, the Father of Europe, united much of Western Europe under his rule, promoting education and culture.\\n7. Queen Victoria, the longest-reigning British monarch, presided over an era of unprecedented industrial and technological advancement.\\n8. These five kings, each with their unique strengths and legacies, have left an enduring impact on the world we live in today.\",\n",
      "            \"response_metadata\": {\n",
      "              \"prompt_feedback\": {\n",
      "                \"block_reason\": 0,\n",
      "                \"safety_ratings\": []\n",
      "              },\n",
      "              \"finish_reason\": \"STOP\",\n",
      "              \"safety_ratings\": [\n",
      "                {\n",
      "                  \"category\": \"HARM_CATEGORY_SEXUALLY_EXPLICIT\",\n",
      "                  \"probability\": \"NEGLIGIBLE\",\n",
      "                  \"blocked\": false\n",
      "                },\n",
      "                {\n",
      "                  \"category\": \"HARM_CATEGORY_HATE_SPEECH\",\n",
      "                  \"probability\": \"NEGLIGIBLE\",\n",
      "                  \"blocked\": false\n",
      "                },\n",
      "                {\n",
      "                  \"category\": \"HARM_CATEGORY_HARASSMENT\",\n",
      "                  \"probability\": \"NEGLIGIBLE\",\n",
      "                  \"blocked\": false\n",
      "                },\n",
      "                {\n",
      "                  \"category\": \"HARM_CATEGORY_DANGEROUS_CONTENT\",\n",
      "                  \"probability\": \"NEGLIGIBLE\",\n",
      "                  \"blocked\": false\n",
      "                }\n",
      "              ]\n",
      "            },\n",
      "            \"type\": \"ai\",\n",
      "            \"id\": \"run-a745925f-cd95-4e52-b6f5-7c8dfa73bf3e-0\",\n",
      "            \"usage_metadata\": {\n",
      "              \"input_tokens\": 369,\n",
      "              \"output_tokens\": 401,\n",
      "              \"total_tokens\": 770\n",
      "            },\n",
      "            \"tool_calls\": [],\n",
      "            \"invalid_tool_calls\": []\n",
      "          }\n",
      "        }\n",
      "      }\n",
      "    ]\n",
      "  ],\n",
      "  \"llm_output\": {\n",
      "    \"prompt_feedback\": {\n",
      "      \"block_reason\": 0,\n",
      "      \"safety_ratings\": []\n",
      "    }\n",
      "  },\n",
      "  \"run\": null\n",
      "}\n",
      "\u001b[36;1m\u001b[1;3m[chain/end]\u001b[0m \u001b[1m[chain:SequentialChain > chain:LLMChain] [8.58s] Exiting Chain run with output:\n",
      "\u001b[0m{\n",
      "  \"script\": \"**Title:** The Five Kings Who Ruled the World\\n\\n**Description:** Join us as we explore the lives and legacies of the five greatest kings of all time. From ancient Egypt to the British Empire, these monarchs shaped the course of history and left an unforgettable mark on the world.\\n\\n**Tags:** history, kings, leadership, power, legacy\\n\\n**Sentences for Image Creation:**\\n\\n1. A majestic pharaoh sits on his golden throne, adorned with intricate headdresses and a regal scepter.\\n2. A young Alexander the Great leads his mighty army into battle, his eyes gleaming with determination.\\n3. Julius Caesar stands on the steps of the Roman Senate, his eloquent speech captivating the crowd.\\n4. Charlemagne, crowned as Holy Roman Emperor, presides over a grand feast in his magnificent palace.\\n5. Queen Victoria, a beloved monarch, rules over a vast British Empire, her reign marked by progress and prosperity.\\n\\n**Sentences for Voice-Over:**\\n\\n1. Throughout history, certain kings have risen above the rest, their names forever etched in the annals of time.\\n2. From the sands of Egypt to the shores of Britain, these five monarchs left an indelible mark on the world.\\n3. Pharaoh Ramses II, the Great Builder, transformed Egypt with his monumental structures and military conquests.\\n4. Alexander the Great, the Conqueror, extended the boundaries of his empire from Greece to India, forever changing the course of history.\\n5. Julius Caesar, the Roman general and statesman, played a pivotal role in shaping the destiny of the Roman Empire.\\n6. Charlemagne, the Father of Europe, united much of Western Europe under his rule, promoting education and culture.\\n7. Queen Victoria, the longest-reigning British monarch, presided over an era of unprecedented industrial and technological advancement.\\n8. These five kings, each with their unique strengths and legacies, have left an enduring impact on the world we live in today.\"\n",
      "}\n",
      "\u001b[32;1m\u001b[1;3m[chain/start]\u001b[0m \u001b[1m[chain:SequentialChain > chain:LLMChain] Entering Chain run with input:\n",
      "\u001b[0m{\n",
      "  \"topic\": \"5 Greatest kings of all time\",\n",
      "  \"script\": \"**Title:** The Five Kings Who Ruled the World\\n\\n**Description:** Join us as we explore the lives and legacies of the five greatest kings of all time. From ancient Egypt to the British Empire, these monarchs shaped the course of history and left an unforgettable mark on the world.\\n\\n**Tags:** history, kings, leadership, power, legacy\\n\\n**Sentences for Image Creation:**\\n\\n1. A majestic pharaoh sits on his golden throne, adorned with intricate headdresses and a regal scepter.\\n2. A young Alexander the Great leads his mighty army into battle, his eyes gleaming with determination.\\n3. Julius Caesar stands on the steps of the Roman Senate, his eloquent speech captivating the crowd.\\n4. Charlemagne, crowned as Holy Roman Emperor, presides over a grand feast in his magnificent palace.\\n5. Queen Victoria, a beloved monarch, rules over a vast British Empire, her reign marked by progress and prosperity.\\n\\n**Sentences for Voice-Over:**\\n\\n1. Throughout history, certain kings have risen above the rest, their names forever etched in the annals of time.\\n2. From the sands of Egypt to the shores of Britain, these five monarchs left an indelible mark on the world.\\n3. Pharaoh Ramses II, the Great Builder, transformed Egypt with his monumental structures and military conquests.\\n4. Alexander the Great, the Conqueror, extended the boundaries of his empire from Greece to India, forever changing the course of history.\\n5. Julius Caesar, the Roman general and statesman, played a pivotal role in shaping the destiny of the Roman Empire.\\n6. Charlemagne, the Father of Europe, united much of Western Europe under his rule, promoting education and culture.\\n7. Queen Victoria, the longest-reigning British monarch, presided over an era of unprecedented industrial and technological advancement.\\n8. These five kings, each with their unique strengths and legacies, have left an enduring impact on the world we live in today.\"\n",
      "}\n",
      "\u001b[32;1m\u001b[1;3m[llm/start]\u001b[0m \u001b[1m[chain:SequentialChain > chain:LLMChain > llm:ChatGoogleGenerativeAI] Entering LLM run with input:\n",
      "\u001b[0m{\n",
      "  \"prompts\": [\n",
      "    \"Human: You are an content writer working for a Youtuber. Given a script, you will modify the script according to the instructions given below.\\n\\n**Instructions:**\\nThe script contains Title, Description, Tags, Sentences for Image Generation, Sentences for Voice-Over.\\n- Ensure that each point in the 'Sentences for Image Generation' corresponds logically and thematically with the corresponding point in the 'Sentences for Voice-Over', maintaining coherence throughout the video content.\\n- For 'Sentences for Image Generation' add a point in the beginning, that has Visual description related to the hook.\\n- For 'Sentences for Voice-Over' add a line related to the hook at the beginning that attracts audience attention and a line related to the Call-to-action - prompting viewers to like, comment, and subscribe at the end.\\n- These sentences should be engaging, suitable for narration.\\n\\n**Script:**  \\n**Title:** The Five Kings Who Ruled the World\\n\\n**Description:** Join us as we explore the lives and legacies of the five greatest kings of all time. From ancient Egypt to the British Empire, these monarchs shaped the course of history and left an unforgettable mark on the world.\\n\\n**Tags:** history, kings, leadership, power, legacy\\n\\n**Sentences for Image Creation:**\\n\\n1. A majestic pharaoh sits on his golden throne, adorned with intricate headdresses and a regal scepter.\\n2. A young Alexander the Great leads his mighty army into battle, his eyes gleaming with determination.\\n3. Julius Caesar stands on the steps of the Roman Senate, his eloquent speech captivating the crowd.\\n4. Charlemagne, crowned as Holy Roman Emperor, presides over a grand feast in his magnificent palace.\\n5. Queen Victoria, a beloved monarch, rules over a vast British Empire, her reign marked by progress and prosperity.\\n\\n**Sentences for Voice-Over:**\\n\\n1. Throughout history, certain kings have risen above the rest, their names forever etched in the annals of time.\\n2. From the sands of Egypt to the shores of Britain, these five monarchs left an indelible mark on the world.\\n3. Pharaoh Ramses II, the Great Builder, transformed Egypt with his monumental structures and military conquests.\\n4. Alexander the Great, the Conqueror, extended the boundaries of his empire from Greece to India, forever changing the course of history.\\n5. Julius Caesar, the Roman general and statesman, played a pivotal role in shaping the destiny of the Roman Empire.\\n6. Charlemagne, the Father of Europe, united much of Western Europe under his rule, promoting education and culture.\\n7. Queen Victoria, the longest-reigning British monarch, presided over an era of unprecedented industrial and technological advancement.\\n8. These five kings, each with their unique strengths and legacies, have left an enduring impact on the world we live in today.\\n\\nMake sure that number of sentences in 'Sentences for Voice-Over' are one more than number of sentences in 'Sentences for Image Generation'. if not modify script.\"\n",
      "  ]\n",
      "}\n",
      "\u001b[36;1m\u001b[1;3m[llm/end]\u001b[0m \u001b[1m[chain:SequentialChain > chain:LLMChain > llm:ChatGoogleGenerativeAI] [8.43s] Exiting LLM run with output:\n",
      "\u001b[0m{\n",
      "  \"generations\": [\n",
      "    [\n",
      "      {\n",
      "        \"text\": \"**Title:** The Five Kings Who Ruled the World\\n\\n**Description:** Join us as we explore the lives and legacies of the five greatest kings of all time. From ancient Egypt to the British Empire, these monarchs shaped the course of history and left an unforgettable mark on the world.\\n\\n**Tags:** history, kings, leadership, power, legacy\\n\\n**Sentences for Image Creation:**\\n\\n1. **Visual description related to the hook:** A majestic pharaoh sits on his golden throne, adorned with intricate headdresses and a regal scepter.\\n2. A young Alexander the Great leads his mighty army into battle, his eyes gleaming with determination.\\n3. Julius Caesar stands on the steps of the Roman Senate, his eloquent speech captivating the crowd.\\n4. Charlemagne, crowned as Holy Roman Emperor, presides over a grand feast in his magnificent palace.\\n5. Queen Victoria, a beloved monarch, rules over a vast British Empire, her reign marked by progress and prosperity.\\n\\n**Sentences for Voice-Over:**\\n\\n1. **Line related to the hook:** Throughout history, certain kings have risen above the rest, their names forever etched in the annals of time.\\n2. From the sands of Egypt to the shores of Britain, these five monarchs left an indelible mark on the world.\\n3. Pharaoh Ramses II, the Great Builder, transformed Egypt with his monumental structures and military conquests.\\n4. Alexander the Great, the Conqueror, extended the boundaries of his empire from Greece to India, forever changing the course of history.\\n5. Julius Caesar, the Roman general and statesman, played a pivotal role in shaping the destiny of the Roman Empire.\\n6. Charlemagne, the Father of Europe, united much of Western Europe under his rule, promoting education and culture.\\n7. Queen Victoria, the longest-reigning British monarch, presided over an era of unprecedented industrial and technological advancement.\\n8. These five kings, each with their unique strengths and legacies, have left an enduring impact on the world we live in today.\\n9. **Line related to the Call-to-action:** Like, comment, and subscribe for more fascinating historical journeys!\",\n",
      "        \"generation_info\": {\n",
      "          \"finish_reason\": \"STOP\",\n",
      "          \"safety_ratings\": [\n",
      "            {\n",
      "              \"category\": \"HARM_CATEGORY_SEXUALLY_EXPLICIT\",\n",
      "              \"probability\": \"NEGLIGIBLE\",\n",
      "              \"blocked\": false\n",
      "            },\n",
      "            {\n",
      "              \"category\": \"HARM_CATEGORY_HATE_SPEECH\",\n",
      "              \"probability\": \"NEGLIGIBLE\",\n",
      "              \"blocked\": false\n",
      "            },\n",
      "            {\n",
      "              \"category\": \"HARM_CATEGORY_HARASSMENT\",\n",
      "              \"probability\": \"NEGLIGIBLE\",\n",
      "              \"blocked\": false\n",
      "            },\n",
      "            {\n",
      "              \"category\": \"HARM_CATEGORY_DANGEROUS_CONTENT\",\n",
      "              \"probability\": \"NEGLIGIBLE\",\n",
      "              \"blocked\": false\n",
      "            }\n",
      "          ]\n",
      "        },\n",
      "        \"type\": \"ChatGeneration\",\n",
      "        \"message\": {\n",
      "          \"lc\": 1,\n",
      "          \"type\": \"constructor\",\n",
      "          \"id\": [\n",
      "            \"langchain\",\n",
      "            \"schema\",\n",
      "            \"messages\",\n",
      "            \"AIMessage\"\n",
      "          ],\n",
      "          \"kwargs\": {\n",
      "            \"content\": \"**Title:** The Five Kings Who Ruled the World\\n\\n**Description:** Join us as we explore the lives and legacies of the five greatest kings of all time. From ancient Egypt to the British Empire, these monarchs shaped the course of history and left an unforgettable mark on the world.\\n\\n**Tags:** history, kings, leadership, power, legacy\\n\\n**Sentences for Image Creation:**\\n\\n1. **Visual description related to the hook:** A majestic pharaoh sits on his golden throne, adorned with intricate headdresses and a regal scepter.\\n2. A young Alexander the Great leads his mighty army into battle, his eyes gleaming with determination.\\n3. Julius Caesar stands on the steps of the Roman Senate, his eloquent speech captivating the crowd.\\n4. Charlemagne, crowned as Holy Roman Emperor, presides over a grand feast in his magnificent palace.\\n5. Queen Victoria, a beloved monarch, rules over a vast British Empire, her reign marked by progress and prosperity.\\n\\n**Sentences for Voice-Over:**\\n\\n1. **Line related to the hook:** Throughout history, certain kings have risen above the rest, their names forever etched in the annals of time.\\n2. From the sands of Egypt to the shores of Britain, these five monarchs left an indelible mark on the world.\\n3. Pharaoh Ramses II, the Great Builder, transformed Egypt with his monumental structures and military conquests.\\n4. Alexander the Great, the Conqueror, extended the boundaries of his empire from Greece to India, forever changing the course of history.\\n5. Julius Caesar, the Roman general and statesman, played a pivotal role in shaping the destiny of the Roman Empire.\\n6. Charlemagne, the Father of Europe, united much of Western Europe under his rule, promoting education and culture.\\n7. Queen Victoria, the longest-reigning British monarch, presided over an era of unprecedented industrial and technological advancement.\\n8. These five kings, each with their unique strengths and legacies, have left an enduring impact on the world we live in today.\\n9. **Line related to the Call-to-action:** Like, comment, and subscribe for more fascinating historical journeys!\",\n",
      "            \"response_metadata\": {\n",
      "              \"prompt_feedback\": {\n",
      "                \"block_reason\": 0,\n",
      "                \"safety_ratings\": []\n",
      "              },\n",
      "              \"finish_reason\": \"STOP\",\n",
      "              \"safety_ratings\": [\n",
      "                {\n",
      "                  \"category\": \"HARM_CATEGORY_SEXUALLY_EXPLICIT\",\n",
      "                  \"probability\": \"NEGLIGIBLE\",\n",
      "                  \"blocked\": false\n",
      "                },\n",
      "                {\n",
      "                  \"category\": \"HARM_CATEGORY_HATE_SPEECH\",\n",
      "                  \"probability\": \"NEGLIGIBLE\",\n",
      "                  \"blocked\": false\n",
      "                },\n",
      "                {\n",
      "                  \"category\": \"HARM_CATEGORY_HARASSMENT\",\n",
      "                  \"probability\": \"NEGLIGIBLE\",\n",
      "                  \"blocked\": false\n",
      "                },\n",
      "                {\n",
      "                  \"category\": \"HARM_CATEGORY_DANGEROUS_CONTENT\",\n",
      "                  \"probability\": \"NEGLIGIBLE\",\n",
      "                  \"blocked\": false\n",
      "                }\n",
      "              ]\n",
      "            },\n",
      "            \"type\": \"ai\",\n",
      "            \"id\": \"run-1de5b187-cd95-4648-af56-c6eee6b7c109-0\",\n",
      "            \"usage_metadata\": {\n",
      "              \"input_tokens\": 626,\n",
      "              \"output_tokens\": 442,\n",
      "              \"total_tokens\": 1068\n",
      "            },\n",
      "            \"tool_calls\": [],\n",
      "            \"invalid_tool_calls\": []\n",
      "          }\n",
      "        }\n",
      "      }\n",
      "    ]\n",
      "  ],\n",
      "  \"llm_output\": {\n",
      "    \"prompt_feedback\": {\n",
      "      \"block_reason\": 0,\n",
      "      \"safety_ratings\": []\n",
      "    }\n",
      "  },\n",
      "  \"run\": null\n",
      "}\n",
      "\u001b[36;1m\u001b[1;3m[chain/end]\u001b[0m \u001b[1m[chain:SequentialChain > chain:LLMChain] [8.43s] Exiting Chain run with output:\n",
      "\u001b[0m{\n",
      "  \"output\": \"**Title:** The Five Kings Who Ruled the World\\n\\n**Description:** Join us as we explore the lives and legacies of the five greatest kings of all time. From ancient Egypt to the British Empire, these monarchs shaped the course of history and left an unforgettable mark on the world.\\n\\n**Tags:** history, kings, leadership, power, legacy\\n\\n**Sentences for Image Creation:**\\n\\n1. **Visual description related to the hook:** A majestic pharaoh sits on his golden throne, adorned with intricate headdresses and a regal scepter.\\n2. A young Alexander the Great leads his mighty army into battle, his eyes gleaming with determination.\\n3. Julius Caesar stands on the steps of the Roman Senate, his eloquent speech captivating the crowd.\\n4. Charlemagne, crowned as Holy Roman Emperor, presides over a grand feast in his magnificent palace.\\n5. Queen Victoria, a beloved monarch, rules over a vast British Empire, her reign marked by progress and prosperity.\\n\\n**Sentences for Voice-Over:**\\n\\n1. **Line related to the hook:** Throughout history, certain kings have risen above the rest, their names forever etched in the annals of time.\\n2. From the sands of Egypt to the shores of Britain, these five monarchs left an indelible mark on the world.\\n3. Pharaoh Ramses II, the Great Builder, transformed Egypt with his monumental structures and military conquests.\\n4. Alexander the Great, the Conqueror, extended the boundaries of his empire from Greece to India, forever changing the course of history.\\n5. Julius Caesar, the Roman general and statesman, played a pivotal role in shaping the destiny of the Roman Empire.\\n6. Charlemagne, the Father of Europe, united much of Western Europe under his rule, promoting education and culture.\\n7. Queen Victoria, the longest-reigning British monarch, presided over an era of unprecedented industrial and technological advancement.\\n8. These five kings, each with their unique strengths and legacies, have left an enduring impact on the world we live in today.\\n9. **Line related to the Call-to-action:** Like, comment, and subscribe for more fascinating historical journeys!\"\n",
      "}\n",
      "\u001b[36;1m\u001b[1;3m[chain/end]\u001b[0m \u001b[1m[chain:SequentialChain] [17.03s] Exiting Chain run with output:\n",
      "\u001b[0m{\n",
      "  \"script\": \"**Title:** The Five Kings Who Ruled the World\\n\\n**Description:** Join us as we explore the lives and legacies of the five greatest kings of all time. From ancient Egypt to the British Empire, these monarchs shaped the course of history and left an unforgettable mark on the world.\\n\\n**Tags:** history, kings, leadership, power, legacy\\n\\n**Sentences for Image Creation:**\\n\\n1. A majestic pharaoh sits on his golden throne, adorned with intricate headdresses and a regal scepter.\\n2. A young Alexander the Great leads his mighty army into battle, his eyes gleaming with determination.\\n3. Julius Caesar stands on the steps of the Roman Senate, his eloquent speech captivating the crowd.\\n4. Charlemagne, crowned as Holy Roman Emperor, presides over a grand feast in his magnificent palace.\\n5. Queen Victoria, a beloved monarch, rules over a vast British Empire, her reign marked by progress and prosperity.\\n\\n**Sentences for Voice-Over:**\\n\\n1. Throughout history, certain kings have risen above the rest, their names forever etched in the annals of time.\\n2. From the sands of Egypt to the shores of Britain, these five monarchs left an indelible mark on the world.\\n3. Pharaoh Ramses II, the Great Builder, transformed Egypt with his monumental structures and military conquests.\\n4. Alexander the Great, the Conqueror, extended the boundaries of his empire from Greece to India, forever changing the course of history.\\n5. Julius Caesar, the Roman general and statesman, played a pivotal role in shaping the destiny of the Roman Empire.\\n6. Charlemagne, the Father of Europe, united much of Western Europe under his rule, promoting education and culture.\\n7. Queen Victoria, the longest-reigning British monarch, presided over an era of unprecedented industrial and technological advancement.\\n8. These five kings, each with their unique strengths and legacies, have left an enduring impact on the world we live in today.\",\n",
      "  \"output\": \"**Title:** The Five Kings Who Ruled the World\\n\\n**Description:** Join us as we explore the lives and legacies of the five greatest kings of all time. From ancient Egypt to the British Empire, these monarchs shaped the course of history and left an unforgettable mark on the world.\\n\\n**Tags:** history, kings, leadership, power, legacy\\n\\n**Sentences for Image Creation:**\\n\\n1. **Visual description related to the hook:** A majestic pharaoh sits on his golden throne, adorned with intricate headdresses and a regal scepter.\\n2. A young Alexander the Great leads his mighty army into battle, his eyes gleaming with determination.\\n3. Julius Caesar stands on the steps of the Roman Senate, his eloquent speech captivating the crowd.\\n4. Charlemagne, crowned as Holy Roman Emperor, presides over a grand feast in his magnificent palace.\\n5. Queen Victoria, a beloved monarch, rules over a vast British Empire, her reign marked by progress and prosperity.\\n\\n**Sentences for Voice-Over:**\\n\\n1. **Line related to the hook:** Throughout history, certain kings have risen above the rest, their names forever etched in the annals of time.\\n2. From the sands of Egypt to the shores of Britain, these five monarchs left an indelible mark on the world.\\n3. Pharaoh Ramses II, the Great Builder, transformed Egypt with his monumental structures and military conquests.\\n4. Alexander the Great, the Conqueror, extended the boundaries of his empire from Greece to India, forever changing the course of history.\\n5. Julius Caesar, the Roman general and statesman, played a pivotal role in shaping the destiny of the Roman Empire.\\n6. Charlemagne, the Father of Europe, united much of Western Europe under his rule, promoting education and culture.\\n7. Queen Victoria, the longest-reigning British monarch, presided over an era of unprecedented industrial and technological advancement.\\n8. These five kings, each with their unique strengths and legacies, have left an enduring impact on the world we live in today.\\n9. **Line related to the Call-to-action:** Like, comment, and subscribe for more fascinating historical journeys!\"\n",
      "}\n"
     ]
    }
   ],
   "source": [
    "chain1 = LLMChain(llm=llm, prompt=prompt1, output_key='script')\n",
    "chain2 = LLMChain(llm=llm, prompt=prompt2, output_key='output')\n",
    "# chain3 = LLMChain(llm=self.llm, prompt=text_speech_prompt, output_key='text_speech')\n",
    "overall_chain = SequentialChain(\n",
    "chains=[chain1, chain2],#, chain3],\n",
    "input_variables=[\"topic\"],\n",
    "output_variables=[\"script\", \"output\"])#, \"text_img\", \"text_speech\"])\n",
    "import langchain\n",
    "langchain.debug = True\n",
    "output = overall_chain.invoke(topic)\n",
    "langchain.debug = False"
   ]
  },
  {
   "cell_type": "code",
   "execution_count": 9,
   "metadata": {},
   "outputs": [
    {
     "name": "stdout",
     "output_type": "stream",
     "text": [
      "**Title:** The Five Kings Who Ruled the World\n",
      "\n",
      "**Description:** Join us as we explore the lives and legacies of the five greatest kings of all time. From ancient Egypt to the British Empire, these monarchs shaped the course of history and left an unforgettable mark on the world.\n",
      "\n",
      "**Tags:** history, kings, leadership, power, legacy\n",
      "\n",
      "**Sentences for Image Creation:**\n",
      "\n",
      "1. A majestic pharaoh sits on his golden throne, adorned with intricate headdresses and a regal scepter.\n",
      "2. A young Alexander the Great leads his mighty army into battle, his eyes gleaming with determination.\n",
      "3. Julius Caesar stands on the steps of the Roman Senate, his eloquent speech captivating the crowd.\n",
      "4. Charlemagne, crowned as Holy Roman Emperor, presides over a grand feast in his magnificent palace.\n",
      "5. Queen Victoria, a beloved monarch, rules over a vast British Empire, her reign marked by progress and prosperity.\n",
      "\n",
      "**Sentences for Voice-Over:**\n",
      "\n",
      "1. Throughout history, certain kings have risen above the rest, their names forever etched in the annals of time.\n",
      "2. From the sands of Egypt to the shores of Britain, these five monarchs left an indelible mark on the world.\n",
      "3. Pharaoh Ramses II, the Great Builder, transformed Egypt with his monumental structures and military conquests.\n",
      "4. Alexander the Great, the Conqueror, extended the boundaries of his empire from Greece to India, forever changing the course of history.\n",
      "5. Julius Caesar, the Roman general and statesman, played a pivotal role in shaping the destiny of the Roman Empire.\n",
      "6. Charlemagne, the Father of Europe, united much of Western Europe under his rule, promoting education and culture.\n",
      "7. Queen Victoria, the longest-reigning British monarch, presided over an era of unprecedented industrial and technological advancement.\n",
      "8. These five kings, each with their unique strengths and legacies, have left an enduring impact on the world we live in today.\n"
     ]
    }
   ],
   "source": [
    "print(output['script'])"
   ]
  },
  {
   "cell_type": "code",
   "execution_count": 10,
   "metadata": {},
   "outputs": [
    {
     "name": "stdout",
     "output_type": "stream",
     "text": [
      "**Title:** The Five Kings Who Ruled the World\n",
      "\n",
      "**Description:** Join us as we explore the lives and legacies of the five greatest kings of all time. From ancient Egypt to the British Empire, these monarchs shaped the course of history and left an unforgettable mark on the world.\n",
      "\n",
      "**Tags:** history, kings, leadership, power, legacy\n",
      "\n",
      "**Sentences for Image Creation:**\n",
      "\n",
      "1. **Visual description related to the hook:** A majestic pharaoh sits on his golden throne, adorned with intricate headdresses and a regal scepter.\n",
      "2. A young Alexander the Great leads his mighty army into battle, his eyes gleaming with determination.\n",
      "3. Julius Caesar stands on the steps of the Roman Senate, his eloquent speech captivating the crowd.\n",
      "4. Charlemagne, crowned as Holy Roman Emperor, presides over a grand feast in his magnificent palace.\n",
      "5. Queen Victoria, a beloved monarch, rules over a vast British Empire, her reign marked by progress and prosperity.\n",
      "\n",
      "**Sentences for Voice-Over:**\n",
      "\n",
      "1. **Line related to the hook:** Throughout history, certain kings have risen above the rest, their names forever etched in the annals of time.\n",
      "2. From the sands of Egypt to the shores of Britain, these five monarchs left an indelible mark on the world.\n",
      "3. Pharaoh Ramses II, the Great Builder, transformed Egypt with his monumental structures and military conquests.\n",
      "4. Alexander the Great, the Conqueror, extended the boundaries of his empire from Greece to India, forever changing the course of history.\n",
      "5. Julius Caesar, the Roman general and statesman, played a pivotal role in shaping the destiny of the Roman Empire.\n",
      "6. Charlemagne, the Father of Europe, united much of Western Europe under his rule, promoting education and culture.\n",
      "7. Queen Victoria, the longest-reigning British monarch, presided over an era of unprecedented industrial and technological advancement.\n",
      "8. These five kings, each with their unique strengths and legacies, have left an enduring impact on the world we live in today.\n",
      "9. **Line related to the Call-to-action:** Like, comment, and subscribe for more fascinating historical journeys!\n"
     ]
    }
   ],
   "source": [
    "print(output['output'])"
   ]
  },
  {
   "cell_type": "markdown",
   "metadata": {},
   "source": []
  },
  {
   "cell_type": "code",
   "execution_count": 74,
   "metadata": {},
   "outputs": [
    {
     "data": {
      "text/plain": [
       "str"
      ]
     },
     "execution_count": 74,
     "metadata": {},
     "output_type": "execute_result"
    }
   ],
   "source": [
    "type(output['output'])"
   ]
  },
  {
   "cell_type": "markdown",
   "metadata": {},
   "source": [
    "## Trying new models"
   ]
  },
  {
   "cell_type": "code",
   "execution_count": 26,
   "metadata": {},
   "outputs": [],
   "source": [
    "from transformers import (\n",
    "    AutoModelForCausalLM,\n",
    "    AutoTokenizer,\n",
    "    BitsAndBytesConfig,\n",
    "    HfArgumentParser,\n",
    "    TrainingArguments,\n",
    "    pipeline,\n",
    "    logging,\n",
    ")\n",
    "import torch"
   ]
  },
  {
   "cell_type": "code",
   "execution_count": 32,
   "metadata": {},
   "outputs": [
    {
     "name": "stderr",
     "output_type": "stream",
     "text": [
      "`low_cpu_mem_usage` was None, now set to True since model is quantized.\n"
     ]
    },
    {
     "data": {
      "application/vnd.jupyter.widget-view+json": {
       "model_id": "9454d666e1e94055b06906c18a63e19f",
       "version_major": 2,
       "version_minor": 0
      },
      "text/plain": [
       "Downloading shards:   0%|          | 0/4 [00:00<?, ?it/s]"
      ]
     },
     "metadata": {},
     "output_type": "display_data"
    },
    {
     "data": {
      "application/vnd.jupyter.widget-view+json": {
       "model_id": "9ae513281d5948568899f186c5eaee0b",
       "version_major": 2,
       "version_minor": 0
      },
      "text/plain": [
       "model-00004-of-00004.safetensors:  28%|##7       | 325M/1.17G [00:00<?, ?B/s]"
      ]
     },
     "metadata": {},
     "output_type": "display_data"
    },
    {
     "data": {
      "application/vnd.jupyter.widget-view+json": {
       "model_id": "98104ca2c9894047ba3e36c7a8e26e1c",
       "version_major": 2,
       "version_minor": 0
      },
      "text/plain": [
       "Loading checkpoint shards:   0%|          | 0/4 [00:00<?, ?it/s]"
      ]
     },
     "metadata": {},
     "output_type": "display_data"
    },
    {
     "data": {
      "application/vnd.jupyter.widget-view+json": {
       "model_id": "147001b8ce7642bd83fbf41bb6bb3e3d",
       "version_major": 2,
       "version_minor": 0
      },
      "text/plain": [
       "generation_config.json:   0%|          | 0.00/142 [00:00<?, ?B/s]"
      ]
     },
     "metadata": {},
     "output_type": "display_data"
    }
   ],
   "source": [
    "bnb_config = BitsAndBytesConfig(\n",
    "    load_in_4bit=True,\n",
    "    bnb_4bit_quant_type='nf4',\n",
    "    bnb_4bit_compute_dtype='float16',\n",
    "    bnb_4bit_use_double_quant=False,\n",
    ")\n",
    "\n",
    "model = AutoModelForCausalLM.from_pretrained(\n",
    "    \"NousResearch/Hermes-2-Pro-Llama-3-8B\",\n",
    "    quantization_config=bnb_config\n",
    ")"
   ]
  },
  {
   "cell_type": "code",
   "execution_count": 35,
   "metadata": {},
   "outputs": [
    {
     "name": "stderr",
     "output_type": "stream",
     "text": [
      "Special tokens have been added in the vocabulary, make sure the associated word embeddings are fine-tuned or trained.\n"
     ]
    },
    {
     "data": {
      "text/plain": [
       "('./llama\\\\tokenizer_config.json',\n",
       " './llama\\\\special_tokens_map.json',\n",
       " './llama\\\\tokenizer.json')"
      ]
     },
     "execution_count": 35,
     "metadata": {},
     "output_type": "execute_result"
    }
   ],
   "source": [
    "model.save_pretrained('./llama')\n",
    "\n",
    "from transformers import AutoTokenizer\n",
    "tokenizer = AutoTokenizer.from_pretrained(\"NousResearch/Hermes-2-Pro-Llama-3-8B\")\n",
    "tokenizer.save_pretrained(\"./llama\")\n"
   ]
  },
  {
   "cell_type": "code",
   "execution_count": 10,
   "metadata": {},
   "outputs": [
    {
     "name": "stderr",
     "output_type": "stream",
     "text": [
      "Unused kwargs: ['_load_in_4bit', '_load_in_8bit', 'quant_method']. These kwargs are not used in <class 'transformers.utils.quantization_config.BitsAndBytesConfig'>.\n",
      "`low_cpu_mem_usage` was None, now set to True since model is quantized.\n"
     ]
    },
    {
     "data": {
      "application/vnd.jupyter.widget-view+json": {
       "model_id": "2aa41b05cbd94bea99f6fd85c2278cf5",
       "version_major": 2,
       "version_minor": 0
      },
      "text/plain": [
       "Loading checkpoint shards:   0%|          | 0/2 [00:00<?, ?it/s]"
      ]
     },
     "metadata": {},
     "output_type": "display_data"
    },
    {
     "name": "stderr",
     "output_type": "stream",
     "text": [
      "Special tokens have been added in the vocabulary, make sure the associated word embeddings are fine-tuned or trained.\n"
     ]
    }
   ],
   "source": [
    "from transformers import AutoModelForCausalLM, AutoTokenizer\n",
    "\n",
    "# Define the path to the local directory where the model is saved\n",
    "local_model_path = \"./llama\"\n",
    "\n",
    "# Load the model from the local directory\n",
    "model = AutoModelForCausalLM.from_pretrained(local_model_path)\n",
    "\n",
    "# (Optional) Load the tokenizer from the local directory\n",
    "tokenizer = AutoTokenizer.from_pretrained(local_model_path)"
   ]
  },
  {
   "cell_type": "code",
   "execution_count": null,
   "metadata": {},
   "outputs": [],
   "source": [
    "input_text = \"\"\"\"Given the following YouTube Shorts script and topic, extract key sentences that can be used to generate images. The sentences should be visually descriptive and capture the main ideas or scenes from the script.\n",
    "\n",
    "# **Script:**\n",
    "# {script}\n",
    "\n",
    "**Topic:**\n",
    "{Indian Gods}\n",
    "\n",
    "Note: count of sentences for output depends on topic\n",
    "**Sentences for Image Generation:**\n",
    "1. [Visual description related to the hook]\n",
    "2. [Visual description related to Main Content Part 1]\n",
    "3. [Visual description related to Main Content Part 2]\n",
    ".\n",
    ".\n",
    "n. [Visual description related to the call-to-action]\n",
    "\n",
    "Note: The output should contain only the points \n",
    "Make sure each sentence is concise and vivid, clearly depicting a scene or idea that can be visualized as an image. If any characters are preset in the text, ensure all points describe characters with consistent characteristics such as age, gender, etc.\"\"\"\n",
    "\n",
    "# Encode the input text\n",
    "inputs = tokenizer(input_text, return_tensors=\"pt\")\n",
    "\n",
    "# Generate output\n",
    "outputs = model.generate(inputs[\"input_ids\"])\n",
    "\n",
    "# Decode the output text\n",
    "generated_text = tokenizer.decode(outputs[0], skip_special_tokens=True, max_new_length=200)\n",
    "\n",
    "# Print the generated response\n",
    "print(generated_text)"
   ]
  },
  {
   "cell_type": "code",
   "execution_count": null,
   "metadata": {},
   "outputs": [],
   "source": [
    "from transformers import AutoModelForCausalLM, AutoTokenizer\n",
    "\n",
    "# Define the path to the local directory where the model is saved\n",
    "# local_model_path = \"./llama\"\n",
    "\n",
    "# # Load the model from the local directory\n",
    "# model = AutoModelForCausalLM.from_pretrained(local_model_path)\n",
    "\n",
    "# # Load the tokenizer from the local directory\n",
    "# tokenizer = AutoTokenizer.from_pretrained(local_model_path)\n",
    "\n",
    "# Prepare some input text\n",
    "input_text = \"Hello, how are you?\"\n",
    "\n",
    "# Encode the input text\n",
    "inputs = tokenizer(input_text, return_tensors=\"pt\")\n",
    "\n",
    "# Generate output with specific parameters\n",
    "outputs = model.generate(\n",
    "    inputs[\"input_ids\"],\n",
    "    max_new_tokens=200,  # Control the maximum number of new tokens generated\n",
    "    num_return_sequences=1,  # Number of sequences to return\n",
    "    no_repeat_ngram_size=2,  # No repetition of n-grams\n",
    "    early_stopping=True  # Stop early if the end-of-sequence token is produced\n",
    ")\n",
    "\n",
    "# Decode the output text\n",
    "generated_text = tokenizer.decode(outputs[0], skip_special_tokens=True)\n",
    "\n",
    "# Print the generated response\n",
    "print(generated_text)\n"
   ]
  },
  {
   "cell_type": "code",
   "execution_count": null,
   "metadata": {},
   "outputs": [],
   "source": []
  },
  {
   "cell_type": "code",
   "execution_count": 4,
   "metadata": {},
   "outputs": [
    {
     "name": "stdout",
     "output_type": "stream",
     "text": [
      "FFmpeg command failed with error code 4294967274:\n",
      "ffmpeg version 2024-05-20-git-127ded5078-full_build-www.gyan.dev Copyright (c) 2000-2024 the FFmpeg developers\n",
      "  built with gcc 13.2.0 (Rev5, Built by MSYS2 project)\n",
      "  configuration: --enable-gpl --enable-version3 --enable-static --disable-w32threads --disable-autodetect --enable-fontconfig --enable-iconv --enable-gnutls --enable-libxml2 --enable-gmp --enable-bzlib --enable-lzma --enable-libsnappy --enable-zlib --enable-librist --enable-libsrt --enable-libssh --enable-libzmq --enable-avisynth --enable-libbluray --enable-libcaca --enable-sdl2 --enable-libaribb24 --enable-libaribcaption --enable-libdav1d --enable-libdavs2 --enable-libuavs3d --enable-libxevd --enable-libzvbi --enable-librav1e --enable-libsvtav1 --enable-libwebp --enable-libx264 --enable-libx265 --enable-libxavs2 --enable-libxeve --enable-libxvid --enable-libaom --enable-libjxl --enable-libopenjpeg --enable-libvpx --enable-mediafoundation --enable-libass --enable-frei0r --enable-libfreetype --enable-libfribidi --enable-libharfbuzz --enable-liblensfun --enable-libvidstab --enable-libvmaf --enable-libzimg --enable-amf --enable-cuda-llvm --enable-cuvid --enable-dxva2 --enable-d3d11va --enable-d3d12va --enable-ffnvcodec --enable-libvpl --enable-nvdec --enable-nvenc --enable-vaapi --enable-libshaderc --enable-vulkan --enable-libplacebo --enable-opencl --enable-libcdio --enable-libgme --enable-libmodplug --enable-libopenmpt --enable-libopencore-amrwb --enable-libmp3lame --enable-libshine --enable-libtheora --enable-libtwolame --enable-libvo-amrwbenc --enable-libcodec2 --enable-libilbc --enable-libgsm --enable-libopencore-amrnb --enable-libopus --enable-libspeex --enable-libvorbis --enable-ladspa --enable-libbs2b --enable-libflite --enable-libmysofa --enable-librubberband --enable-libsoxr --enable-chromaprint\n",
      "  libavutil      59. 19.100 / 59. 19.100\n",
      "  libavcodec     61.  5.104 / 61.  5.104\n",
      "  libavformat    61.  3.103 / 61.  3.103\n",
      "  libavdevice    61.  2.100 / 61.  2.100\n",
      "  libavfilter    10.  2.102 / 10.  2.102\n",
      "  libswscale      8.  2.100 /  8.  2.100\n",
      "  libswresample   5.  2.100 /  5.  2.100\n",
      "  libpostproc    58.  2.100 / 58.  2.100\n",
      "Input #0, image2, from 'outputs/images/image_0.jpg':\n",
      "  Duration: 00:00:00.04, start: 0.000000, bitrate: 20517 kb/s\n",
      "  Stream #0:0: Video: mjpeg (Baseline), yuvj420p(pc, bt470bg/unknown/unknown), 512x1024 [SAR 1:1 DAR 1:2], 25 fps, 25 tbr, 25 tbn\n",
      "[mp3 @ 0000026384cc85c0] Estimating duration from bitrate, this may be inaccurate\n",
      "Input #1, mp3, from 'outputs/speech/speech_0.mp3':\n",
      "  Duration: 00:00:02.43, start: 0.000000, bitrate: 32 kb/s\n",
      "  Stream #1:0: Audio: mp3 (mp3float), 22050 Hz, mono, fltp, 32 kb/s\n",
      "[fc#0 @ 0000026384c288c0] Cannot find a matching stream for unlabeled input pad concat\n",
      "Error binding filtergraph inputs/outputs: Invalid argument\n",
      "\n"
     ]
    }
   ],
   "source": [
    "import subprocess\n",
    "\n",
    "def video_create(image, audio, num):\n",
    "    try:\n",
    "        ffmpeg_command = [\n",
    "            'ffmpeg',\n",
    "            '-loop', '1',\n",
    "            '-i', image,\n",
    "            '-i', audio,\n",
    "            '-filter_complex', '[0:v]fade=t=in:st=0:d=2[v0];[v0][1:a]concat=n=2:v=1:a=1[v][a]',\n",
    "            '-map', '[v]',\n",
    "            '-map', '[a]',\n",
    "            '-c:v', 'libx264',\n",
    "            '-c:a', 'aac',\n",
    "            '-b:a', '192k',\n",
    "            '-shortest',\n",
    "            f'outputs/temp_videos/video_{num}.mp4'\n",
    "        ]\n",
    "        \n",
    "        result = subprocess.run(ffmpeg_command, check=True, capture_output=True, text=True)\n",
    "        print(result.stdout)\n",
    "        \n",
    "    except subprocess.CalledProcessError as e:\n",
    "        print(f\"FFmpeg command failed with error code {e.returncode}:\")\n",
    "        print(e.stderr)\n",
    "\n",
    "# Example usage\n",
    "video_create('outputs/images/image_0.jpg', 'outputs/speech/speech_0.mp3', 111)\n"
   ]
  },
  {
   "cell_type": "code",
   "execution_count": 6,
   "metadata": {},
   "outputs": [
    {
     "name": "stdout",
     "output_type": "stream",
     "text": [
      "\n"
     ]
    }
   ],
   "source": [
    "import subprocess\n",
    "\n",
    "def video_add_effects(input_video, output_video):\n",
    "    try:\n",
    "        ffmpeg_command = [\n",
    "            'ffmpeg',\n",
    "            '-i', input_video,\n",
    "            '-vf', 'fade=in:st=0:d=2',\n",
    "            '-c:v', 'libx264',\n",
    "            '-c:a', 'aac',\n",
    "            '-b:a', '192k',\n",
    "            output_video\n",
    "        ]\n",
    "        \n",
    "        result = subprocess.run(ffmpeg_command, check=True, capture_output=True, text=True)\n",
    "        print(result.stdout)\n",
    "        \n",
    "    except subprocess.CalledProcessError as e:\n",
    "        print(f\"FFmpeg command failed with error code {e.returncode}:\")\n",
    "        print(e.stderr)\n",
    "\n",
    "# Example usage\n",
    "video_add_effects('outputs/temp_videos/video_1.mp4', 'output_video.mp4')"
   ]
  },
  {
   "cell_type": "code",
   "execution_count": 9,
   "metadata": {},
   "outputs": [
    {
     "name": "stdout",
     "output_type": "stream",
     "text": [
      "\n"
     ]
    }
   ],
   "source": [
    "import subprocess\n",
    "\n",
    "def add_watermark(input_video, watermark_image, output_video):\n",
    "    try:\n",
    "        ffmpeg_command = [\n",
    "            'ffmpeg',\n",
    "            '-i', input_video,\n",
    "            '-i', watermark_image,\n",
    "            '-filter_complex', 'overlay=W-w-1:H-h-1',  # Adjust position as needed\n",
    "            '-c:v', 'libx264',\n",
    "            '-c:a', 'aac',\n",
    "            '-b:a', '192k',\n",
    "            output_video\n",
    "        ]\n",
    "        \n",
    "        result = subprocess.run(ffmpeg_command, check=True, capture_output=True, text=True)\n",
    "        print(result.stdout)\n",
    "        \n",
    "    except subprocess.CalledProcessError as e:\n",
    "        print(f\"FFmpeg command failed with error code {e.returncode}:\")\n",
    "        print(e.stderr)\n",
    "\n",
    "# Example usage:\n",
    "add_watermark('outputs/final_video/video1.mp4', 'outputs/images/image_1.jpg', 'output_video.mp4')"
   ]
  },
  {
   "cell_type": "code",
   "execution_count": null,
   "metadata": {},
   "outputs": [],
   "source": []
  }
 ],
 "metadata": {
  "kernelspec": {
   "display_name": "gen_ai1",
   "language": "python",
   "name": "python3"
  },
  "language_info": {
   "codemirror_mode": {
    "name": "ipython",
    "version": 3
   },
   "file_extension": ".py",
   "mimetype": "text/x-python",
   "name": "python",
   "nbconvert_exporter": "python",
   "pygments_lexer": "ipython3",
   "version": "3.10.14"
  }
 },
 "nbformat": 4,
 "nbformat_minor": 2
}
