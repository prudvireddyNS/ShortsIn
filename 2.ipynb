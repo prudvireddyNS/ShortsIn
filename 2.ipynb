{
 "cells": [
  {
   "cell_type": "code",
   "execution_count": 1,
   "metadata": {},
   "outputs": [],
   "source": [
    "from langchain.agents import initialize_agent\n",
    "from langchain.tools import tool\n",
    "from diffusers import DiffusionPipeline\n",
    "from langchain_google_genai import ChatGoogleGenerativeAI\n",
    "from gtts import gTTS\n",
    "\n",
    "import bitsandbytes as bnb\n",
    "import torch.nn as nn\n",
    "import torch"
   ]
  },
  {
   "cell_type": "markdown",
   "metadata": {},
   "source": [
    "### LLMs"
   ]
  },
  {
   "cell_type": "code",
   "execution_count": 2,
   "metadata": {},
   "outputs": [
    {
     "data": {
      "application/vnd.jupyter.widget-view+json": {
       "model_id": "e6bc3be7c7cc4656a0e698067a865293",
       "version_major": 2,
       "version_minor": 0
      },
      "text/plain": [
       "Loading pipeline components...:   0%|          | 0/7 [00:00<?, ?it/s]"
      ]
     },
     "metadata": {},
     "output_type": "display_data"
    }
   ],
   "source": [
    "image_generator = DiffusionPipeline.from_pretrained(\"stabilityai/stable-diffusion-xl-base-1.0\", torch_dtype=torch.float16, use_safetensors=True, variant=\"fp16\")\n",
    "image_generator.enable_model_cpu_offload()\n",
    "\n",
    "def quantize_model_to_4bit(model):\n",
    "    replacements = []\n",
    "\n",
    "    # Collect layers to be replaced\n",
    "    for name, module in model.named_modules():\n",
    "        if isinstance(module, nn.Linear):\n",
    "            replacements.append((name, module))\n",
    "\n",
    "    # Replace layers\n",
    "    for name, module in replacements:\n",
    "        # Split the name to navigate to the parent module\n",
    "        *path, last = name.split('.')\n",
    "        parent = model\n",
    "        for part in path:\n",
    "            parent = getattr(parent, part)\n",
    "\n",
    "        # Create and assign the quantized layer\n",
    "        quantized_layer = bnb.nn.Linear4bit(module.in_features, module.out_features, bias=module.bias is not None)\n",
    "        quantized_layer.weight.data = module.weight.data\n",
    "        if module.bias is not None:\n",
    "            quantized_layer.bias.data = module.bias.data\n",
    "        setattr(parent, last, quantized_layer)\n",
    "\n",
    "    return model\n",
    "\n",
    "# Quantize the UNet part of the pipeline\n",
    "image_generator.unet = quantize_model_to_4bit(image_generator.unet)"
   ]
  },
  {
   "cell_type": "code",
   "execution_count": 3,
   "metadata": {},
   "outputs": [
    {
     "data": {
      "text/plain": [
       "StableDiffusionXLPipeline {\n",
       "  \"_class_name\": \"StableDiffusionXLPipeline\",\n",
       "  \"_diffusers_version\": \"0.29.0\",\n",
       "  \"_name_or_path\": \"stabilityai/stable-diffusion-xl-base-1.0\",\n",
       "  \"feature_extractor\": [\n",
       "    null,\n",
       "    null\n",
       "  ],\n",
       "  \"force_zeros_for_empty_prompt\": true,\n",
       "  \"image_encoder\": [\n",
       "    null,\n",
       "    null\n",
       "  ],\n",
       "  \"scheduler\": [\n",
       "    \"diffusers\",\n",
       "    \"EulerDiscreteScheduler\"\n",
       "  ],\n",
       "  \"text_encoder\": [\n",
       "    \"transformers\",\n",
       "    \"CLIPTextModel\"\n",
       "  ],\n",
       "  \"text_encoder_2\": [\n",
       "    \"transformers\",\n",
       "    \"CLIPTextModelWithProjection\"\n",
       "  ],\n",
       "  \"tokenizer\": [\n",
       "    \"transformers\",\n",
       "    \"CLIPTokenizer\"\n",
       "  ],\n",
       "  \"tokenizer_2\": [\n",
       "    \"transformers\",\n",
       "    \"CLIPTokenizer\"\n",
       "  ],\n",
       "  \"unet\": [\n",
       "    \"diffusers\",\n",
       "    \"UNet2DConditionModel\"\n",
       "  ],\n",
       "  \"vae\": [\n",
       "    \"diffusers\",\n",
       "    \"AutoencoderKL\"\n",
       "  ]\n",
       "}"
      ]
     },
     "execution_count": 3,
     "metadata": {},
     "output_type": "execute_result"
    }
   ],
   "source": [
    "image_generator"
   ]
  },
  {
   "cell_type": "code",
   "execution_count": 15,
   "metadata": {},
   "outputs": [],
   "source": [
    "llm = ChatGoogleGenerativeAI(model='gemini-1.5-pro')"
   ]
  },
  {
   "cell_type": "markdown",
   "metadata": {},
   "source": [
    "### Tools"
   ]
  },
  {
   "cell_type": "code",
   "execution_count": 4,
   "metadata": {},
   "outputs": [],
   "source": [
    "@tool\n",
    "def generate_script(text:str)->str:\n",
    "        \"\"\"Returns a script for given text\"\"\"\n",
    "        response = llm.invoke(text)\n",
    "        return response.content\n",
    "\n",
    "@tool\n",
    "def generate_image(text):\n",
    "    \"\"\"generates image for given script\"\"\"\n",
    "    output = image_generator(text)\n",
    "    image = output.images[0]\n",
    "    image.show()\n",
    "    image.save('outputs/images/generated_img.jpg')\n",
    "    return image\n",
    "\n",
    "@tool\n",
    "def generate_speech(text):\n",
    "    \"\"\"Generates speech for given script\"\"\"\n",
    "    filename=\"output.mp3\"\n",
    "    tts = gTTS(text=text, lang='en')\n",
    "    tts.save(filename)\n",
    "    return filename"
   ]
  },
  {
   "cell_type": "markdown",
   "metadata": {},
   "source": [
    "### Generating Script"
   ]
  },
  {
   "cell_type": "code",
   "execution_count": 5,
   "metadata": {},
   "outputs": [],
   "source": [
    "input = 'a boy dreaming his future'"
   ]
  },
  {
   "cell_type": "code",
   "execution_count": 10,
   "metadata": {},
   "outputs": [],
   "source": [
    "prompt_template1 = \"\"\"Create a story for YouTube Shorts. The story should be engaging, concise (up to 60 seconds), and include a hook, main content, and a call-to-action (CTA). Use the information provided below to generate the script. Make sure to use a conversational and energetic tone suitable for a broad audience.\n",
    "\n",
    "**Title:** [Title of the Short]\n",
    "**Description:** [Brief description of the video]\n",
    "**Tags:** [Relevant tags]\n",
    "\n",
    "**Topic Text:**\n",
    "{topic}\n",
    "\n",
    "**story:**\n",
    "\n",
    "**[0-5 seconds]:** [Hook - an engaging introduction to capture viewers' attention]\n",
    "\n",
    "**[5-20 seconds]:** [Main Content Part 1 - present the first main point]\n",
    "\n",
    "**[20-40 seconds]:** [Main Content Part 2 - present the second main point]\n",
    "\n",
    "**[40-55 seconds]:** [Main Content Part 3 - present the third main point]\n",
    "\n",
    "**[55-60 seconds]:** [Call-to-action - prompt viewers to like, comment, and subscribe]\n",
    "\n",
    "Make sure the script is punchy, direct, and visually descriptive to align with the fast-paced nature of YouTube Shorts.\"\"\"\n",
    "# give the output in json format\n"
   ]
  },
  {
   "cell_type": "code",
   "execution_count": 11,
   "metadata": {},
   "outputs": [],
   "source": [
    "from langchain.prompts import PromptTemplate"
   ]
  },
  {
   "cell_type": "code",
   "execution_count": 12,
   "metadata": {},
   "outputs": [
    {
     "data": {
      "text/plain": [
       "PromptTemplate(input_variables=['topic'], template=\"Create a story for YouTube Shorts. The story should be engaging, concise (up to 60 seconds), and include a hook, main content, and a call-to-action (CTA). Use the information provided below to generate the script. Make sure to use a conversational and energetic tone suitable for a broad audience.\\n\\n**Title:** [Title of the Short]\\n**Description:** [Brief description of the video]\\n**Tags:** [Relevant tags]\\n\\n**Topic Text:**\\n{topic}\\n\\n**story:**\\n\\n**[0-5 seconds]:** [Hook - an engaging introduction to capture viewers' attention]\\n\\n**[5-20 seconds]:** [Main Content Part 1 - present the first main point]\\n\\n**[20-40 seconds]:** [Main Content Part 2 - present the second main point]\\n\\n**[40-55 seconds]:** [Main Content Part 3 - present the third main point]\\n\\n**[55-60 seconds]:** [Call-to-action - prompt viewers to like, comment, and subscribe]\\n\\nMake sure the script is punchy, direct, and visually descriptive to align with the fast-paced nature of YouTube Shorts.\")"
      ]
     },
     "execution_count": 12,
     "metadata": {},
     "output_type": "execute_result"
    }
   ],
   "source": [
    "prompt1 = PromptTemplate.from_template(prompt_template1)\n",
    "prompt1"
   ]
  },
  {
   "cell_type": "code",
   "execution_count": 13,
   "metadata": {},
   "outputs": [],
   "source": [
    "from langchain.chains import LLMChain"
   ]
  },
  {
   "cell_type": "code",
   "execution_count": 16,
   "metadata": {},
   "outputs": [
    {
     "name": "stderr",
     "output_type": "stream",
     "text": [
      "c:\\Users\\prudh\\anaconda3\\envs\\gen_ai1\\lib\\site-packages\\langchain_core\\_api\\deprecation.py:119: LangChainDeprecationWarning: The class `LLMChain` was deprecated in LangChain 0.1.17 and will be removed in 0.3.0. Use RunnableSequence, e.g., `prompt | llm` instead.\n",
      "  warn_deprecated(\n"
     ]
    }
   ],
   "source": [
    "chain1 = LLMChain(llm=llm, prompt=prompt1, output_key='script')"
   ]
  },
  {
   "cell_type": "code",
   "execution_count": 17,
   "metadata": {},
   "outputs": [],
   "source": [
    "script = chain1.invoke(input)"
   ]
  },
  {
   "cell_type": "code",
   "execution_count": 18,
   "metadata": {},
   "outputs": [
    {
     "name": "stdout",
     "output_type": "stream",
     "text": [
      "{'topic': 'a boy dreaming his future', 'script': \"## Title: Dream BIG, Little Man! 🤯🚀\\n\\n**Description:** This kid's got BIG dreams! See what happens when imagination takes over! 🌠\\n\\n**Tags:** #dreams #motivation #kids #future #imagination #inspiration #shorts \\n\\n**[0-5 seconds]:** 😴 **(Close-up shot of a young boy sleeping soundly, then his eyes suddenly pop open with a gasp!)**  Whoa! Did you see that?! This little guy just dreamt up his FUTURE! \\n\\n**[5-20 seconds]:** 🚀 **(Transition to a montage of the boy dressed as an astronaut, exploring a vibrant, animated planet surface. Upbeat, inspiring music plays in the background.)** First stop, OUTER SPACE! He's walking on Mars, discovering alien life, and even having a snack break with a friendly alien! 👽🥪\\n\\n**[20-40 seconds]:** 👨\\u200d🔬 **(Transition to a scene of the boy in a lab coat, surrounded by bubbling beakers and flashing lights. He's excitedly examining a test tube.)** Next up, he's a world-renowned SCIENTIST, finding cures for diseases and inventing gadgets that could change the world! 🧪🌎\\n\\n**[40-55 seconds]:** 🎤🎸 **(Transition to a scene of the boy on a stage with a roaring crowd, playing an electric guitar like a rockstar.)**  And finally, he's rocking out on stage as a FAMOUS MUSICIAN, sharing his passion with the world! 🎶🔥\\n\\n**[55-60 seconds]:**  What do YOU dream of becoming? Tell us in the comments! And don't forget to like, subscribe, and share this video to inspire others to dream BIG! ✨  \\n\"}\n"
     ]
    }
   ],
   "source": [
    "print(script)"
   ]
  },
  {
   "cell_type": "code",
   "execution_count": 19,
   "metadata": {},
   "outputs": [
    {
     "data": {
      "text/plain": [
       "dict"
      ]
     },
     "execution_count": 19,
     "metadata": {},
     "output_type": "execute_result"
    }
   ],
   "source": [
    "type(script)"
   ]
  },
  {
   "cell_type": "code",
   "execution_count": 38,
   "metadata": {},
   "outputs": [],
   "source": [
    "prompt_template2 = \"\"\"Given the following YouTube Shorts script and topic, extract key sentences that can be used to generate images. The sentences should be visually descriptive and capture the main ideas or scenes from the script.\n",
    "\n",
    "**Script:**\n",
    "{script}\n",
    "\n",
    "**Topic:**\n",
    "{topic}\n",
    "\n",
    "**Sentences for Image Generation:**\n",
    "1. [First descriptive sentence]\n",
    "2. [Second descriptive sentence]\n",
    "3. [Third descriptive sentence]\n",
    "4. [Fourth descriptive sentence]\n",
    "5. [Fifth descriptive sentence]\n",
    "\n",
    "Make sure each sentence is concise and vivid, clearly depicting a scene or idea that can be visualized as an image. If any characters are present in the text, ensure all points describe characters with consistent characteristics such as age, gender, etc.\"\"\""
   ]
  },
  {
   "cell_type": "code",
   "execution_count": 39,
   "metadata": {},
   "outputs": [],
   "source": [
    "prompt2 = PromptTemplate.from_template(prompt_template2)\n",
    "\n",
    "chain2 = LLMChain(llm=llm, prompt=prompt2, output_key='text_img')\n",
    "output = chain2.run(script)"
   ]
  },
  {
   "cell_type": "code",
   "execution_count": 40,
   "metadata": {},
   "outputs": [
    {
     "name": "stdout",
     "output_type": "stream",
     "text": [
      "Here are five sentences from the script that are visually descriptive and capture the main ideas for image generation:\n",
      "\n",
      "1. **A young boy lays sleeping soundly, his face lit by a sudden gasp and wide, dreaming eyes.** (Captures the opening scene and the \"dream\" element)\n",
      "2. **Dressed as an astronaut, the boy explores a vibrant alien planet, walking amongst strange plants and curious creatures.** (Focuses on the space exploration dream) \n",
      "3. **Surrounded by bubbling beakers and flashing lights, the boy, now a scientist in a lab coat, examines a glowing test tube with a look of wonder.** (Depicts the science and discovery aspect) \n",
      "4. **Bathed in bright stage lights, the boy, holding an electric guitar, plays to a cheering crowd with the energy of a rockstar.** (Illustrates the music and performance dream)\n",
      "5. **A thought bubble above the boy's head fills with colorful images of an astronaut, a scientist, and a musician, representing the endless possibilities of his dreams.** (Provides a symbolic representation of the overall message of dreaming big) \n",
      "\n"
     ]
    }
   ],
   "source": [
    "print(output)"
   ]
  },
  {
   "cell_type": "code",
   "execution_count": 27,
   "metadata": {},
   "outputs": [],
   "source": [
    "prompt_template3 = \"\"\"Given the following YouTube Shorts script and topic, extract key sentences that can be used for a voice-over. The sentences should capture the main ideas or scenes from the script, suitable for narration, and be crafted to grab viewers' attention.\n",
    "\n",
    "**Script:**\n",
    "{script}\n",
    "\n",
    "**Topic:**\n",
    "{topic}\n",
    "\n",
    "**Sentences for Voice-Over:**\n",
    "1. [First attention-grabbing voice-over sentence]\n",
    "2. [Second engaging voice-over sentence]\n",
    "3. [Third compelling voice-over sentence]\n",
    "4. [Fourth captivating voice-over sentence]\n",
    "5. [Fifth intriguing voice-over sentence]\n",
    "\n",
    "Make sure each sentence is concise, clear, and designed to capture the viewer's interest, effectively conveying the main points or scenes from the script. If any characters are present in the text, ensure all points describe characters with consistent characteristics such as age, gender, etc. Additionally, consider the tone needed to maintain engagement and interest throughout the video.\n",
    "\"\"\""
   ]
  },
  {
   "cell_type": "code",
   "execution_count": 28,
   "metadata": {},
   "outputs": [],
   "source": [
    "prompt3 = PromptTemplate.from_template(prompt_template3)\n",
    "\n",
    "chain3 = LLMChain(llm=llm, prompt=prompt3, output_key='text_speech')\n",
    "output_= chain2.run(script=output['script'], topic=output['topic'])"
   ]
  },
  {
   "cell_type": "code",
   "execution_count": 29,
   "metadata": {},
   "outputs": [
    {
     "data": {
      "text/plain": [
       "\"## Sentences for Image Generation:\\n\\n1. **Ganesha, the elephant-headed god, sits happily with a mountain of sweets piled before him, his stomach wrapped in a snake-belt.** (This captures Ganesha's love for sweets and the story of his burst stomach)\\n2. **Shiva, adorned with snakes and a crescent moon, performs the Tandav, a cosmic dance, surrounded by swirling galaxies and exploding stars.** (This visualizes Shiva's power as the master of dance and destruction)\\n3. **Lakshmi, the beautiful goddess of wealth, sits gracefully on a lotus flower, her hand outstretched, showering golden coins, while a watchful owl perches beside her.** (This depicts Lakshmi's association with wealth, prosperity, and her fickle nature represented by the owl)\\n4. **A montage of vibrant and powerful Hindu deities, including Vishnu, Brahma, Saraswati, and Hanuman, each displaying their unique attributes and powers.** (This showcases the diversity and grandeur of Hindu Gods) \\n5. **A curious young person watches in awe as a screen displays fascinating facts and images of Indian Gods, their mind visibly blown by the incredible stories.** (This represents the target audience engaging with the content and the overall theme of the video) \\n\""
      ]
     },
     "execution_count": 29,
     "metadata": {},
     "output_type": "execute_result"
    }
   ],
   "source": [
    "output_"
   ]
  },
  {
   "cell_type": "code",
   "execution_count": null,
   "metadata": {},
   "outputs": [],
   "source": []
  },
  {
   "cell_type": "code",
   "execution_count": 23,
   "metadata": {},
   "outputs": [],
   "source": [
    "from langchain.chains import SequentialChain"
   ]
  },
  {
   "cell_type": "code",
   "execution_count": 41,
   "metadata": {},
   "outputs": [],
   "source": [
    "overall_chain = SequentialChain(\n",
    "    chains=[chain1, chain2, chain3],\n",
    "    input_variables=[\"topic\"],\n",
    "    output_variables=[\"script\", \"text_img\", \"text_speech\"],\n",
    "    verbose=True\n",
    ")"
   ]
  },
  {
   "cell_type": "code",
   "execution_count": 42,
   "metadata": {},
   "outputs": [],
   "source": [
    "input = 'Indian Gods'"
   ]
  },
  {
   "cell_type": "code",
   "execution_count": 43,
   "metadata": {},
   "outputs": [
    {
     "name": "stdout",
     "output_type": "stream",
     "text": [
      "\n",
      "\n",
      "\u001b[1m> Entering new SequentialChain chain...\u001b[0m\n",
      "\n",
      "\u001b[1m> Finished chain.\u001b[0m\n"
     ]
    },
    {
     "data": {
      "text/plain": [
       "{'topic': 'Indian Gods',\n",
       " 'script': '## Title: 🤯 3 Indian Gods You WON\\'T Believe Exist! 🤯\\n\\n**Description:** Think you know Indian mythology? Think again! These lesser-known deities are WILD. 🤯\\n\\n**Tags:** #indianmythology #mythology #india #gods #facts #didyouknow #shorts\\n\\n**(Video starts with fast-paced, upbeat traditional Indian music playing in the background)**\\n\\n**[0-5 seconds]**\\n\\n**(Visually: A montage of famous Indian gods like Ganesha, Shiva, and Lakshmi flashes across the screen.)**\\n\\n**YouTuber (Energetic, fast-talking):**  Yo, myth fans! We all know Ganesh, right? Remover of obstacles, loves his modak?  But get this…Indian mythology is PACKED with lesser-known deities who are even MORE mind-blowing! 🤯\\n\\n**(Music cuts to a dramatic sting as the title card appears: 3 Indian Gods You WON\\'T Believe Exist!)**\\n\\n**[5-20 seconds]**\\n\\n**(Visually: An image of a dog-headed man with a weapon appears.)**\\n\\n**YouTuber:**  First up: Bhairava! This fierce dude is Shiva’s bodyguard…and he’s got the head of a DOG! 🐶  Legend says he roams cemeteries, protecting the dead. Talk about a loyal pup! \\n\\n**[20-40 seconds]**\\n\\n**(Visually: An image of a beautiful woman with a parrot on her shoulder appears.)**\\n\\n**YouTuber:**  Next, we\\'ve got Madhavi: the goddess of intoxication! 🍷  No, seriously! She\\'s said to have traveled the universe, learning the secrets of…well…let\\'s just say \"adult beverages.\"  Party at Madhavi\\'s place! 🎉\\n\\n**[40-55 seconds]**\\n\\n**(Visually: An image of a man with an elephant head and multiple arms appears.)**\\n\\n**YouTuber:**  And finally, meet Kubera: the OG sugar daddy! 💰 This wealthy god is the treasurer of ALL the gods. Like, imagine having a vault of divine riches!  Just don\\'t ask him for a loan…he\\'s notoriously stingy! \\n\\n**(Music fades back in as the YouTuber reappears on screen.)**\\n\\n**[55-60 seconds]**\\n\\n**YouTuber:** So, which god blew your mind? Let me know in the comments! And don\\'t forget to smash that like button and subscribe for more crazy mythology! Peace out! ✌️ \\n',\n",
       " 'text_img': '**Sentences for Image Generation:**\\n\\n1. **A montage of Hindu deities flashes by, including Ganesha with his elephant head and Lakshmi holding a lotus flower.** \\n2. **Bhairava, a fierce warrior with the head of a dog, stands guard in a shadowy cemetery, wielding a weapon.**\\n3. **Madhavi, a beautiful woman draped in flowing silks, holds a goblet aloft as a green parrot perches on her shoulder.**\\n4. **Kubera, opulent and powerful, sits upon a golden throne piled high with jewels and coins, a stern look on his elephant-like face.**\\n5. **A hand gives a thumbs-up with the text \"Like & Subscribe\" superimposed over a background of swirling colorful smoke and the outline of India.** \\n',\n",
       " 'text_speech': \"Here are five sentences for the voice-over, designed to capture attention and highlight the script's key points:\\n\\n1.  **Think you know Indian gods? Get ready to have your mind blown!** (Energetic, challenging tone)\\n2.  **Meet Bhairava, the ultimate guard dog...with a twist!** (Intriguing, slightly humorous)\\n3. **Ever heard of a goddess of intoxication?  Get ready to party with Madhavi!** (Playful, suggestive of fun facts)\\n4. **Forget billionaires, Kubera is the REAL god of wealth!** (Emphasizes scale, uses modern reference)\\n5. **Which god surprised you the most? Let me know in the comments!**  (Encourages interaction, continues the conversation) \\n\"}"
      ]
     },
     "execution_count": 43,
     "metadata": {},
     "output_type": "execute_result"
    }
   ],
   "source": [
    "output = overall_chain(input)\n",
    "output"
   ]
  },
  {
   "cell_type": "code",
   "execution_count": 44,
   "metadata": {},
   "outputs": [
    {
     "data": {
      "text/plain": [
       "dict"
      ]
     },
     "execution_count": 44,
     "metadata": {},
     "output_type": "execute_result"
    }
   ],
   "source": [
    "type(script)"
   ]
  },
  {
   "cell_type": "markdown",
   "metadata": {},
   "source": [
    "### Generating Images"
   ]
  },
  {
   "cell_type": "code",
   "execution_count": 30,
   "metadata": {},
   "outputs": [],
   "source": [
    "from langchain.agents import create_react_agent, AgentExecutor"
   ]
  },
  {
   "cell_type": "code",
   "execution_count": 47,
   "metadata": {},
   "outputs": [],
   "source": [
    "# ReAct template\n",
    "prompt_template4 = \"\"\"Based on the following topics, generate images that visually represent the key scenes or ideas discussed. Ensure each image is detailed and visually descriptive. You have access to the following tools:\n",
    "\n",
    "{tools}\n",
    "\n",
    "Use the following format:\n",
    "\n",
    "Question: topics to generate images\n",
    "\n",
    "Thought: you should always think about what to do\n",
    "\n",
    "Action: the action to take, should be one of [{tool_names}]\n",
    "\n",
    "Action Input: the input to the action\n",
    "\n",
    "Observation: the result of the action\n",
    "\n",
    "... (this Thought/Action/Action Input/Observation can repeat N times)\n",
    "\n",
    "Thought: I now know the final answer\n",
    "\n",
    "Final Answer: the final answer to the original input question\n",
    "\n",
    "Begin!\n",
    "\n",
    "Question: {input}\n",
    "\n",
    "Thought:{agent_scratchpad}\"\"\""
   ]
  },
  {
   "cell_type": "code",
   "execution_count": 48,
   "metadata": {},
   "outputs": [],
   "source": [
    "prompt4 = PromptTemplate.from_template(prompt_template4)"
   ]
  },
  {
   "cell_type": "code",
   "execution_count": 50,
   "metadata": {},
   "outputs": [
    {
     "data": {
      "text/plain": [
       "PromptTemplate(input_variables=['agent_scratchpad', 'input', 'tool_names', 'tools'], template='Based on the following topics, generate images that visually represent the key scenes or ideas discussed. Ensure each image is detailed and visually descriptive. You have access to the following tools:\\n\\n{tools}\\n\\nUse the following format:\\n\\nQuestion: topics to generate images\\n\\nThought: you should always think about what to do\\n\\nAction: the action to take, should be one of [{tool_names}]\\n\\nAction Input: the input to the action\\n\\nObservation: the result of the action\\n\\n... (this Thought/Action/Action Input/Observation can repeat N times)\\n\\nThought: I now know the final answer\\n\\nFinal Answer: the final answer to the original input question\\n\\nBegin!\\n\\nQuestion: {input}\\n\\nThought:{agent_scratchpad}')"
      ]
     },
     "execution_count": 50,
     "metadata": {},
     "output_type": "execute_result"
    }
   ],
   "source": [
    "prompt4"
   ]
  },
  {
   "cell_type": "code",
   "execution_count": 51,
   "metadata": {},
   "outputs": [],
   "source": [
    "agent = create_react_agent(llm, tools=[generate_image], prompt =prompt4)\n",
    "agent_executor = AgentExecutor(agent=agent, tools=[generate_image])"
   ]
  },
  {
   "cell_type": "code",
   "execution_count": null,
   "metadata": {},
   "outputs": [],
   "source": [
    "agent_executor.invoke({\"input\": output['output']})"
   ]
  },
  {
   "cell_type": "code",
   "execution_count": null,
   "metadata": {},
   "outputs": [],
   "source": [
    "agent_executor.invoke({\"input\": output_})"
   ]
  },
  {
   "cell_type": "markdown",
   "metadata": {},
   "source": [
    "### Generating Speech"
   ]
  },
  {
   "cell_type": "code",
   "execution_count": 52,
   "metadata": {},
   "outputs": [],
   "source": [
    "# ReAct template\n",
    "prompt_template5 = \"\"\"For the following topics, seperate each topic and generate speech for each one. One speech for one topic. You have access to the following tools:\n",
    "\n",
    "{tools}\n",
    "\n",
    "Use the following format:\n",
    "\n",
    "Question: topics to generate images\n",
    "\n",
    "Thought: you should always think about what to do\n",
    "\n",
    "Action: the action to take, should be one of [{tool_names}]\n",
    "\n",
    "Action Input: the input to the action\n",
    "\n",
    "Observation: the result of the action\n",
    "\n",
    "... (this Thought/Action/Action Input/Observation can repeat N times)\n",
    "\n",
    "Thought: I now know the final answer\n",
    "\n",
    "Final Answer: the final answer to the original input question\n",
    "\n",
    "Begin!\n",
    "\n",
    "Question: {input}\n",
    "\n",
    "Thought:{agent_scratchpad}\"\"\""
   ]
  },
  {
   "cell_type": "code",
   "execution_count": 53,
   "metadata": {},
   "outputs": [],
   "source": [
    "prompt5 = PromptTemplate.from_template(prompt_template5)"
   ]
  },
  {
   "cell_type": "code",
   "execution_count": 54,
   "metadata": {},
   "outputs": [],
   "source": [
    "agent2 = create_react_agent(llm, tools=[generate_speech], prompt =prompt5)\n",
    "agent_executor2 = AgentExecutor(agent=agent2, tools=[generate_speech])"
   ]
  },
  {
   "cell_type": "code",
   "execution_count": 56,
   "metadata": {},
   "outputs": [
    {
     "data": {
      "text/plain": [
       "\"Here are five sentences for the voice-over, designed to capture attention and highlight the script's key points:\\n\\n1.  **Think you know Indian gods? Get ready to have your mind blown!** (Energetic, challenging tone)\\n2.  **Meet Bhairava, the ultimate guard dog...with a twist!** (Intriguing, slightly humorous)\\n3. **Ever heard of a goddess of intoxication?  Get ready to party with Madhavi!** (Playful, suggestive of fun facts)\\n4. **Forget billionaires, Kubera is the REAL god of wealth!** (Emphasizes scale, uses modern reference)\\n5. **Which god surprised you the most? Let me know in the comments!**  (Encourages interaction, continues the conversation) \\n\""
      ]
     },
     "execution_count": 56,
     "metadata": {},
     "output_type": "execute_result"
    }
   ],
   "source": [
    "output['text_speech']"
   ]
  },
  {
   "cell_type": "code",
   "execution_count": null,
   "metadata": {},
   "outputs": [],
   "source": [
    "import langchain\n",
    "langchain.debug = True\n",
    "agent_executor2.invoke({\"input\": output['text_speech']})\n",
    "langchain.debug = False"
   ]
  },
  {
   "cell_type": "code",
   "execution_count": 4,
   "metadata": {},
   "outputs": [
    {
     "name": "stdout",
     "output_type": "stream",
     "text": [
      "Speech generated and saved as: output.mp3\n"
     ]
    }
   ],
   "source": [
    "import pyttsx3\n",
    "\n",
    "def generate_speech(text, lang='en', speed=200, voice='default', filename='output.mp3'):\n",
    "    \"\"\"\n",
    "    Generates speech for given script.\n",
    "    \"\"\"\n",
    "    engine = pyttsx3.init()\n",
    "    \n",
    "    # Set language and voice\n",
    "    voices = engine.getProperty('voices')\n",
    "    if voice == 'default':\n",
    "        voice_id = voices[0].id\n",
    "    else:\n",
    "        # Try to find the voice with the given name\n",
    "        voice_id = None\n",
    "        for v in voices:\n",
    "            if voice in v.name:\n",
    "                voice_id = v.id\n",
    "                break\n",
    "        if not voice_id:\n",
    "            raise ValueError(f\"Voice '{voice}' not found.\")\n",
    "    \n",
    "    engine.setProperty('voice', voice_id)\n",
    "    engine.setProperty('rate', speed)\n",
    "\n",
    "    engine.save_to_file(text, filename)\n",
    "    engine.runAndWait()\n",
    "    \n",
    "    return filename\n",
    "\n",
    "# Example usage\n",
    "text = \"Get ready to have your mind blown by these fascinating facts about Indian Gods!\"\n",
    "filename = generate_speech(text, lang='en', speed=180, voice='default', filename='output.mp3')\n",
    "print(f\"Speech generated and saved as: {filename}\")"
   ]
  },
  {
   "cell_type": "code",
   "execution_count": null,
   "metadata": {},
   "outputs": [],
   "source": []
  }
 ],
 "metadata": {
  "kernelspec": {
   "display_name": "gen_ai1",
   "language": "python",
   "name": "python3"
  },
  "language_info": {
   "codemirror_mode": {
    "name": "ipython",
    "version": 3
   },
   "file_extension": ".py",
   "mimetype": "text/x-python",
   "name": "python",
   "nbconvert_exporter": "python",
   "pygments_lexer": "ipython3",
   "version": "3.10.14"
  }
 },
 "nbformat": 4,
 "nbformat_minor": 2
}
